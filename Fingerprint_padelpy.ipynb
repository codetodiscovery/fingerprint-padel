{
  "nbformat": 4,
  "nbformat_minor": 0,
  "metadata": {
    "colab": {
      "provenance": []
    },
    "kernelspec": {
      "name": "python3",
      "display_name": "Python 3"
    },
    "language_info": {
      "name": "python"
    }
  },
  "cells": [
    {
      "cell_type": "code",
      "source": [
        "import time\n",
        "start_time = time.perf_counter()"
      ],
      "metadata": {
        "id": "NIBU0YYw3yCn"
      },
      "execution_count": 1,
      "outputs": []
    },
    {
      "cell_type": "code",
      "source": [
        "!pip install padelpy\n",
        "import padelpy"
      ],
      "metadata": {
        "id": "Jex7hGe-s-vE"
      },
      "execution_count": null,
      "outputs": []
    },
    {
      "cell_type": "code",
      "source": [
        "import pandas as pd\n",
        "import glob\n",
        "from padelpy import padeldescriptor"
      ],
      "metadata": {
        "id": "A9t35k4IZaw3"
      },
      "execution_count": null,
      "outputs": []
    },
    {
      "cell_type": "code",
      "source": [
        "! wget https://github.com/codetodiscovery/fingerprint-padel/raw/main/descriptors_xml.zip\n"
      ],
      "metadata": {
        "id": "5N1MFkDApIg0"
      },
      "execution_count": null,
      "outputs": []
    },
    {
      "cell_type": "code",
      "source": [
        "! unzip descriptors_xml.zip"
      ],
      "metadata": {
        "id": "19mgLnxTbwgh"
      },
      "execution_count": null,
      "outputs": []
    },
    {
      "cell_type": "code",
      "source": [
        "xml_files = glob.glob(\"*.xml\")\n",
        "xml_files.sort()\n",
        "xml_files"
      ],
      "metadata": {
        "id": "iDY4n_sWfoGy"
      },
      "execution_count": null,
      "outputs": []
    },
    {
      "cell_type": "code",
      "source": [
        "df = pd.read_excel('Heteroaromatics.xlsx')\n",
        "df.head(10)"
      ],
      "metadata": {
        "id": "4nkRaCa1ZN4h"
      },
      "execution_count": null,
      "outputs": []
    },
    {
      "cell_type": "code",
      "source": [
        "df_smi = df.to_csv('Heteroaromatics.smi', index=None, header=None)"
      ],
      "metadata": {
        "id": "hgZPB0WuZZAE"
      },
      "execution_count": null,
      "outputs": []
    },
    {
      "cell_type": "code",
      "source": [
        "for i in range(len(xml_files)):\n",
        "\n",
        "  padeldescriptor(mol_dir='Heteroaromatics.smi', d_file=f'{xml_files[i][:-4]}.csv',\n",
        "                  descriptortypes= xml_files[i],retainorder=True,\n",
        "                  fingerprints=True,d_2d=False,\n",
        "                  d_3d=False)\n",
        "  fp_name = f'{xml_files[i][:-4]}'\n",
        "  fp = pd.read_csv(f'{fp_name}.csv')\n",
        "  fp = pd.concat([df, fp.drop('Name', axis=1)], axis=1)\n",
        "  fp.to_csv(f'{fp_name}.csv', index=None)\n",
        "  print (f'{xml_files[i][:-4]} done')\n",
        "\n",
        "end_time = time.perf_counter ()\n",
        "print(end_time - start_time, \"seconds\")"
      ],
      "metadata": {
        "id": "vg5AA9JMa-sl"
      },
      "execution_count": null,
      "outputs": []
    }
  ]
}